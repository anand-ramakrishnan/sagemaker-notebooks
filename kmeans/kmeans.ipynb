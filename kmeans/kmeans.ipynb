{
 "cells": [
  {
   "cell_type": "code",
   "execution_count": 22,
   "metadata": {},
   "outputs": [],
   "source": [
    "import pandas as pd\n",
    "import numpy as np\n",
    "from datetime import datetime\n",
    "\n",
    "import boto3\n",
    "from sagemaker import get_execution_role\n",
    "import sagemaker.amazon.common as smac"
   ]
  },
  {
   "cell_type": "markdown",
   "metadata": {
    "collapsed": true
   },
   "source": [
    "## Data fetch"
   ]
  },
  {
   "cell_type": "code",
   "execution_count": 2,
   "metadata": {},
   "outputs": [
    {
     "name": "stdout",
     "output_type": "stream",
     "text": [
      "hello\n"
     ]
    }
   ],
   "source": [
    "role = get_execution_role()\n",
    "bucket = 'awsml-sagemaker-lab'\n",
    "prefix = 'ufo_dataset'\n",
    "data_key = 'ufo_fullset.csv'\n",
    "data_location = 's3://{}/{}/{}'.format(bucket,prefix,data_key)\n",
    "print('hello')"
   ]
  },
  {
   "cell_type": "code",
   "execution_count": 3,
   "metadata": {},
   "outputs": [
    {
     "data": {
      "text/html": [
       "<div>\n",
       "<style scoped>\n",
       "    .dataframe tbody tr th:only-of-type {\n",
       "        vertical-align: middle;\n",
       "    }\n",
       "\n",
       "    .dataframe tbody tr th {\n",
       "        vertical-align: top;\n",
       "    }\n",
       "\n",
       "    .dataframe thead th {\n",
       "        text-align: right;\n",
       "    }\n",
       "</style>\n",
       "<table border=\"1\" class=\"dataframe\">\n",
       "  <thead>\n",
       "    <tr style=\"text-align: right;\">\n",
       "      <th></th>\n",
       "      <th>reportedTimestamp</th>\n",
       "      <th>eventDate</th>\n",
       "      <th>eventTime</th>\n",
       "      <th>shape</th>\n",
       "      <th>duration</th>\n",
       "      <th>witnesses</th>\n",
       "      <th>weather</th>\n",
       "      <th>firstName</th>\n",
       "      <th>lastName</th>\n",
       "      <th>latitude</th>\n",
       "      <th>longitude</th>\n",
       "      <th>sighting</th>\n",
       "      <th>physicalEvidence</th>\n",
       "      <th>contact</th>\n",
       "      <th>researchOutcome</th>\n",
       "    </tr>\n",
       "  </thead>\n",
       "  <tbody>\n",
       "    <tr>\n",
       "      <th>0</th>\n",
       "      <td>1977-04-04T04:02:23.340Z</td>\n",
       "      <td>1977-03-31</td>\n",
       "      <td>23:46</td>\n",
       "      <td>circle</td>\n",
       "      <td>4</td>\n",
       "      <td>1</td>\n",
       "      <td>rain</td>\n",
       "      <td>Ila</td>\n",
       "      <td>Bashirian</td>\n",
       "      <td>47.329444</td>\n",
       "      <td>-122.578889</td>\n",
       "      <td>Y</td>\n",
       "      <td>N</td>\n",
       "      <td>N</td>\n",
       "      <td>explained</td>\n",
       "    </tr>\n",
       "    <tr>\n",
       "      <th>1</th>\n",
       "      <td>1982-11-22T02:06:32.019Z</td>\n",
       "      <td>1982-11-15</td>\n",
       "      <td>22:04</td>\n",
       "      <td>disk</td>\n",
       "      <td>4</td>\n",
       "      <td>1</td>\n",
       "      <td>partly cloudy</td>\n",
       "      <td>Eriberto</td>\n",
       "      <td>Runolfsson</td>\n",
       "      <td>52.664913</td>\n",
       "      <td>-1.034894</td>\n",
       "      <td>Y</td>\n",
       "      <td>Y</td>\n",
       "      <td>N</td>\n",
       "      <td>explained</td>\n",
       "    </tr>\n",
       "    <tr>\n",
       "      <th>2</th>\n",
       "      <td>1992-12-07T19:06:52.482Z</td>\n",
       "      <td>1992-12-07</td>\n",
       "      <td>19:01</td>\n",
       "      <td>circle</td>\n",
       "      <td>49</td>\n",
       "      <td>1</td>\n",
       "      <td>clear</td>\n",
       "      <td>Miller</td>\n",
       "      <td>Watsica</td>\n",
       "      <td>38.951667</td>\n",
       "      <td>-92.333889</td>\n",
       "      <td>Y</td>\n",
       "      <td>N</td>\n",
       "      <td>N</td>\n",
       "      <td>explained</td>\n",
       "    </tr>\n",
       "    <tr>\n",
       "      <th>3</th>\n",
       "      <td>2011-02-24T21:06:34.898Z</td>\n",
       "      <td>2011-02-21</td>\n",
       "      <td>20:56</td>\n",
       "      <td>disk</td>\n",
       "      <td>13</td>\n",
       "      <td>1</td>\n",
       "      <td>partly cloudy</td>\n",
       "      <td>Clifton</td>\n",
       "      <td>Bechtelar</td>\n",
       "      <td>41.496944</td>\n",
       "      <td>-71.367778</td>\n",
       "      <td>Y</td>\n",
       "      <td>N</td>\n",
       "      <td>N</td>\n",
       "      <td>explained</td>\n",
       "    </tr>\n",
       "    <tr>\n",
       "      <th>4</th>\n",
       "      <td>1991-03-09T16:18:45.501Z</td>\n",
       "      <td>1991-03-09</td>\n",
       "      <td>11:42</td>\n",
       "      <td>circle</td>\n",
       "      <td>17</td>\n",
       "      <td>1</td>\n",
       "      <td>mostly cloudy</td>\n",
       "      <td>Jayda</td>\n",
       "      <td>Ebert</td>\n",
       "      <td>47.606389</td>\n",
       "      <td>-122.330833</td>\n",
       "      <td>Y</td>\n",
       "      <td>N</td>\n",
       "      <td>N</td>\n",
       "      <td>explained</td>\n",
       "    </tr>\n",
       "  </tbody>\n",
       "</table>\n",
       "</div>"
      ],
      "text/plain": [
       "          reportedTimestamp   eventDate eventTime   shape  duration  \\\n",
       "0  1977-04-04T04:02:23.340Z  1977-03-31     23:46  circle         4   \n",
       "1  1982-11-22T02:06:32.019Z  1982-11-15     22:04    disk         4   \n",
       "2  1992-12-07T19:06:52.482Z  1992-12-07     19:01  circle        49   \n",
       "3  2011-02-24T21:06:34.898Z  2011-02-21     20:56    disk        13   \n",
       "4  1991-03-09T16:18:45.501Z  1991-03-09     11:42  circle        17   \n",
       "\n",
       "   witnesses        weather firstName    lastName   latitude   longitude  \\\n",
       "0          1           rain       Ila   Bashirian  47.329444 -122.578889   \n",
       "1          1  partly cloudy  Eriberto  Runolfsson  52.664913   -1.034894   \n",
       "2          1          clear    Miller     Watsica  38.951667  -92.333889   \n",
       "3          1  partly cloudy   Clifton   Bechtelar  41.496944  -71.367778   \n",
       "4          1  mostly cloudy     Jayda       Ebert  47.606389 -122.330833   \n",
       "\n",
       "  sighting physicalEvidence contact researchOutcome  \n",
       "0        Y                N       N       explained  \n",
       "1        Y                Y       N       explained  \n",
       "2        Y                N       N       explained  \n",
       "3        Y                N       N       explained  \n",
       "4        Y                N       N       explained  "
      ]
     },
     "execution_count": 3,
     "metadata": {},
     "output_type": "execute_result"
    }
   ],
   "source": [
    "df = pd.read_csv(data_location,low_memory=False)\n",
    "df.head()"
   ]
  },
  {
   "cell_type": "code",
   "execution_count": 4,
   "metadata": {},
   "outputs": [
    {
     "data": {
      "text/plain": [
       "(18000, 15)"
      ]
     },
     "execution_count": 4,
     "metadata": {},
     "output_type": "execute_result"
    }
   ],
   "source": [
    "df.shape"
   ]
  },
  {
   "cell_type": "markdown",
   "metadata": {},
   "source": [
    "## Prepare"
   ]
  },
  {
   "cell_type": "code",
   "execution_count": 13,
   "metadata": {},
   "outputs": [
    {
     "name": "stdout",
     "output_type": "stream",
     "text": [
      "<class 'pandas.core.frame.DataFrame'>\n",
      "RangeIndex: 18000 entries, 0 to 17999\n",
      "Data columns (total 2 columns):\n",
      " #   Column     Non-Null Count  Dtype  \n",
      "---  ------     --------------  -----  \n",
      " 0   latitude   18000 non-null  float64\n",
      " 1   longitude  18000 non-null  float64\n",
      "dtypes: float64(2)\n",
      "memory usage: 281.4 KB\n"
     ]
    }
   ],
   "source": [
    "df_geo = df[['latitude','longitude']]\n",
    "df_geo.info()"
   ]
  },
  {
   "cell_type": "code",
   "execution_count": 14,
   "metadata": {},
   "outputs": [
    {
     "name": "stdout",
     "output_type": "stream",
     "text": [
      "Are there any missing value = False\n"
     ]
    }
   ],
   "source": [
    "missing_values = df_geo.isnull().values.any()\n",
    "print('Are there any missing value = ' + str(missing_values))"
   ]
  },
  {
   "cell_type": "code",
   "execution_count": 16,
   "metadata": {},
   "outputs": [
    {
     "data": {
      "text/plain": [
       "array([[  47.329445, -122.57889 ],\n",
       "       [  52.664913,   -1.034894],\n",
       "       [  38.951668,  -92.333885],\n",
       "       ...,\n",
       "       [  36.86639 ,  -83.888885],\n",
       "       [  35.385834,  -94.39833 ],\n",
       "       [  29.883055,  -97.94111 ]], dtype=float32)"
      ]
     },
     "execution_count": 16,
     "metadata": {},
     "output_type": "execute_result"
    }
   ],
   "source": [
    "data_train = df_geo.values.astype('float32')\n",
    "data_train"
   ]
  },
  {
   "cell_type": "markdown",
   "metadata": {},
   "source": [
    "## Training"
   ]
  },
  {
   "cell_type": "code",
   "execution_count": 24,
   "metadata": {},
   "outputs": [
    {
     "name": "stdout",
     "output_type": "stream",
     "text": [
      "Here is the job_name kmeans-geo-job-20200928220124\n"
     ]
    }
   ],
   "source": [
    "from sagemaker import KMeans\n",
    "no_of_clusters = 10\n",
    "output_location = 's3://{}/{}'.format(bucket,'ufo_kmeans_model')\n",
    "kmeans = KMeans(role=role,\n",
    "       train_instance_count=1,\n",
    "       train_instance_type='ml.c4.xlarge',\n",
    "       output_path=output_location,\n",
    "       k=no_of_clusters)\n",
    "job_name = 'kmeans-geo-job-{}'.format(datetime.now().strftime('%Y%m%d%H%M%S'))\n",
    "print('Here is the job_name {}'.format(job_name))"
   ]
  },
  {
   "cell_type": "code",
   "execution_count": 29,
   "metadata": {},
   "outputs": [
    {
     "name": "stderr",
     "output_type": "stream",
     "text": [
      "'s3_input' class will be renamed to 'TrainingInput' in SageMaker Python SDK v2.\n",
      "'get_image_uri' method will be deprecated in favor of 'ImageURIProvider' class in SageMaker Python SDK v2.\n"
     ]
    },
    {
     "name": "stdout",
     "output_type": "stream",
     "text": [
      "2020-09-28 22:10:14 Starting - Starting the training job...\n",
      "2020-09-28 22:10:21 Starting - Launching requested ML instances.........\n",
      "2020-09-28 22:11:46 Starting - Preparing the instances for training.........\n",
      "2020-09-28 22:13:17 Downloading - Downloading input data...\n",
      "2020-09-28 22:14:12 Training - Training image download completed. Training in progress..\u001b[34mDocker entrypoint called with argument(s): train\u001b[0m\n",
      "\u001b[34mRunning default environment configuration script\u001b[0m\n",
      "\u001b[34m[09/28/2020 22:14:15 INFO 140585646163776] Reading default configuration from /opt/amazon/lib/python2.7/site-packages/algorithm/resources/default-input.json: {u'_enable_profiler': u'false', u'_tuning_objective_metric': u'', u'_num_gpus': u'auto', u'local_lloyd_num_trials': u'auto', u'_log_level': u'info', u'_kvstore': u'auto', u'local_lloyd_init_method': u'kmeans++', u'force_dense': u'true', u'epochs': u'1', u'init_method': u'random', u'local_lloyd_tol': u'0.0001', u'local_lloyd_max_iter': u'300', u'_disable_wait_to_read': u'false', u'extra_center_factor': u'auto', u'eval_metrics': u'[\"msd\"]', u'_num_kv_servers': u'1', u'mini_batch_size': u'5000', u'half_life_time_size': u'0', u'_num_slices': u'1'}\u001b[0m\n",
      "\u001b[34m[09/28/2020 22:14:15 INFO 140585646163776] Reading provided configuration from /opt/ml/input/config/hyperparameters.json: {u'feature_dim': u'2', u'k': u'10', u'force_dense': u'True'}\u001b[0m\n",
      "\u001b[34m[09/28/2020 22:14:15 INFO 140585646163776] Final configuration: {u'_tuning_objective_metric': u'', u'extra_center_factor': u'auto', u'local_lloyd_init_method': u'kmeans++', u'force_dense': u'True', u'epochs': u'1', u'feature_dim': u'2', u'local_lloyd_tol': u'0.0001', u'_disable_wait_to_read': u'false', u'eval_metrics': u'[\"msd\"]', u'_num_kv_servers': u'1', u'mini_batch_size': u'5000', u'_enable_profiler': u'false', u'_num_gpus': u'auto', u'local_lloyd_num_trials': u'auto', u'_log_level': u'info', u'init_method': u'random', u'half_life_time_size': u'0', u'local_lloyd_max_iter': u'300', u'_kvstore': u'auto', u'k': u'10', u'_num_slices': u'1'}\u001b[0m\n",
      "\u001b[34m[09/28/2020 22:14:15 WARNING 140585646163776] Loggers have already been setup.\u001b[0m\n",
      "\u001b[34mProcess 1 is a worker.\u001b[0m\n",
      "\u001b[34m[09/28/2020 22:14:15 INFO 140585646163776] Using default worker.\u001b[0m\n",
      "\u001b[34m[09/28/2020 22:14:15 INFO 140585646163776] Loaded iterator creator application/x-recordio-protobuf for content type ('application/x-recordio-protobuf', '1.0')\u001b[0m\n",
      "\u001b[34m[09/28/2020 22:14:15 INFO 140585646163776] Create Store: local\u001b[0m\n",
      "\u001b[34m[09/28/2020 22:14:15 INFO 140585646163776] nvidia-smi took: 0.0252001285553 secs to identify 0 gpus\u001b[0m\n",
      "\u001b[34m[09/28/2020 22:14:15 INFO 140585646163776] Number of GPUs being used: 0\u001b[0m\n",
      "\u001b[34m[09/28/2020 22:14:15 INFO 140585646163776] Setting up with params: {u'_tuning_objective_metric': u'', u'extra_center_factor': u'auto', u'local_lloyd_init_method': u'kmeans++', u'force_dense': u'True', u'epochs': u'1', u'feature_dim': u'2', u'local_lloyd_tol': u'0.0001', u'_disable_wait_to_read': u'false', u'eval_metrics': u'[\"msd\"]', u'_num_kv_servers': u'1', u'mini_batch_size': u'5000', u'_enable_profiler': u'false', u'_num_gpus': u'auto', u'local_lloyd_num_trials': u'auto', u'_log_level': u'info', u'init_method': u'random', u'half_life_time_size': u'0', u'local_lloyd_max_iter': u'300', u'_kvstore': u'auto', u'k': u'10', u'_num_slices': u'1'}\u001b[0m\n",
      "\u001b[34m[09/28/2020 22:14:15 INFO 140585646163776] 'extra_center_factor' was set to 'auto', evaluated to 10.\u001b[0m\n",
      "\u001b[34m[09/28/2020 22:14:15 INFO 140585646163776] Number of GPUs being used: 0\u001b[0m\n",
      "\u001b[34m[09/28/2020 22:14:15 INFO 140585646163776] number of center slices 1\u001b[0m\n",
      "\u001b[34m#metrics {\"Metrics\": {\"Max Batches Seen Between Resets\": {\"count\": 1, \"max\": 1, \"sum\": 1.0, \"min\": 1}, \"Number of Batches Since Last Reset\": {\"count\": 1, \"max\": 1, \"sum\": 1.0, \"min\": 1}, \"Number of Records Since Last Reset\": {\"count\": 1, \"max\": 5000, \"sum\": 5000.0, \"min\": 5000}, \"Total Batches Seen\": {\"count\": 1, \"max\": 1, \"sum\": 1.0, \"min\": 1}, \"Total Records Seen\": {\"count\": 1, \"max\": 5000, \"sum\": 5000.0, \"min\": 5000}, \"Max Records Seen Between Resets\": {\"count\": 1, \"max\": 5000, \"sum\": 5000.0, \"min\": 5000}, \"Reset Count\": {\"count\": 1, \"max\": 0, \"sum\": 0.0, \"min\": 0}}, \"EndTime\": 1601331255.854429, \"Dimensions\": {\"Host\": \"algo-1\", \"Meta\": \"init_train_data_iter\", \"Operation\": \"training\", \"Algorithm\": \"AWS/KMeansWebscale\"}, \"StartTime\": 1601331255.854395}\n",
      "\u001b[0m\n",
      "\u001b[34m[2020-09-28 22:14:15.854] [tensorio] [info] epoch_stats={\"data_pipeline\": \"/opt/ml/input/data/train\", \"epoch\": 0, \"duration\": 52, \"num_examples\": 1, \"num_bytes\": 160000}\u001b[0m\n",
      "\u001b[34m[2020-09-28 22:14:15.955] [tensorio] [info] epoch_stats={\"data_pipeline\": \"/opt/ml/input/data/train\", \"epoch\": 1, \"duration\": 100, \"num_examples\": 4, \"num_bytes\": 576000}\u001b[0m\n",
      "\u001b[34m[09/28/2020 22:14:15 INFO 140585646163776] processed a total of 18000 examples\u001b[0m\n",
      "\u001b[34m[09/28/2020 22:14:15 INFO 140585646163776] #progress_metric: host=algo-1, completed 100 % of epochs\u001b[0m\n",
      "\u001b[34m#metrics {\"Metrics\": {\"Max Batches Seen Between Resets\": {\"count\": 1, \"max\": 4, \"sum\": 4.0, \"min\": 4}, \"Number of Batches Since Last Reset\": {\"count\": 1, \"max\": 4, \"sum\": 4.0, \"min\": 4}, \"Number of Records Since Last Reset\": {\"count\": 1, \"max\": 18000, \"sum\": 18000.0, \"min\": 18000}, \"Total Batches Seen\": {\"count\": 1, \"max\": 5, \"sum\": 5.0, \"min\": 5}, \"Total Records Seen\": {\"count\": 1, \"max\": 23000, \"sum\": 23000.0, \"min\": 23000}, \"Max Records Seen Between Resets\": {\"count\": 1, \"max\": 18000, \"sum\": 18000.0, \"min\": 18000}, \"Reset Count\": {\"count\": 1, \"max\": 1, \"sum\": 1.0, \"min\": 1}}, \"EndTime\": 1601331255.956161, \"Dimensions\": {\"Host\": \"algo-1\", \"Meta\": \"training_data_iter\", \"Operation\": \"training\", \"Algorithm\": \"AWS/KMeansWebscale\", \"epoch\": 0}, \"StartTime\": 1601331255.854684}\n",
      "\u001b[0m\n",
      "\u001b[34m[09/28/2020 22:14:15 INFO 140585646163776] #throughput_metric: host=algo-1, train throughput=177107.703857 records/second\u001b[0m\n",
      "\u001b[34m[09/28/2020 22:14:15 WARNING 140585646163776] wait_for_all_workers will not sync workers since the kv store is not running distributed\u001b[0m\n",
      "\u001b[34m[09/28/2020 22:14:15 INFO 140585646163776] shrinking 100 centers into 10\u001b[0m\n",
      "\u001b[34m[09/28/2020 22:14:16 INFO 140585646163776] local kmeans attempt #0. Current mean square distance 44.016853\u001b[0m\n",
      "\u001b[34m[09/28/2020 22:14:16 INFO 140585646163776] local kmeans attempt #1. Current mean square distance 39.437576\u001b[0m\n",
      "\u001b[34m[09/28/2020 22:14:16 INFO 140585646163776] local kmeans attempt #2. Current mean square distance 42.181286\u001b[0m\n",
      "\u001b[34m[09/28/2020 22:14:16 INFO 140585646163776] local kmeans attempt #3. Current mean square distance 44.047001\u001b[0m\n",
      "\u001b[34m[09/28/2020 22:14:16 INFO 140585646163776] local kmeans attempt #4. Current mean square distance 40.252983\u001b[0m\n",
      "\u001b[34m[09/28/2020 22:14:16 INFO 140585646163776] local kmeans attempt #5. Current mean square distance 43.280998\u001b[0m\n",
      "\u001b[34m[09/28/2020 22:14:16 INFO 140585646163776] local kmeans attempt #6. Current mean square distance 52.656704\u001b[0m\n",
      "\u001b[34m[09/28/2020 22:14:16 INFO 140585646163776] local kmeans attempt #7. Current mean square distance 38.165260\u001b[0m\n",
      "\u001b[34m[09/28/2020 22:14:16 INFO 140585646163776] local kmeans attempt #8. Current mean square distance 44.850372\u001b[0m\n",
      "\u001b[34m[09/28/2020 22:14:16 INFO 140585646163776] local kmeans attempt #9. Current mean square distance 40.823254\u001b[0m\n",
      "\u001b[34m[09/28/2020 22:14:16 INFO 140585646163776] finished shrinking process. Mean Square Distance = 38\u001b[0m\n",
      "\u001b[34m[09/28/2020 22:14:16 INFO 140585646163776] #quality_metric: host=algo-1, train msd <loss>=38.1652603149\u001b[0m\n",
      "\u001b[34m[09/28/2020 22:14:16 INFO 140585646163776] compute all data-center distances: inner product took: 28.5453%, (0.030520 secs)\u001b[0m\n",
      "\u001b[34m[09/28/2020 22:14:16 INFO 140585646163776] predict compute msd took: 15.2194%, (0.016272 secs)\u001b[0m\n",
      "\u001b[34m[09/28/2020 22:14:16 INFO 140585646163776] gradient: cluster center took: 10.7494%, (0.011493 secs)\u001b[0m\n",
      "\u001b[34m[09/28/2020 22:14:16 INFO 140585646163776] gradient: cluster size  took: 8.0434%, (0.008600 secs)\u001b[0m\n",
      "\u001b[34m[09/28/2020 22:14:16 INFO 140585646163776] collect from kv store took: 7.2281%, (0.007728 secs)\u001b[0m\n",
      "\u001b[34m[09/28/2020 22:14:16 INFO 140585646163776] gradient: one_hot took: 7.1624%, (0.007658 secs)\u001b[0m\n",
      "\u001b[34m[09/28/2020 22:14:16 INFO 140585646163776] compute all data-center distances: point norm took: 7.0250%, (0.007511 secs)\u001b[0m\n",
      "\u001b[34m[09/28/2020 22:14:16 INFO 140585646163776] splitting centers key-value pair took: 6.8370%, (0.007310 secs)\u001b[0m\n",
      "\u001b[34m[09/28/2020 22:14:16 INFO 140585646163776] batch data loading with context took: 6.4987%, (0.006948 secs)\u001b[0m\n",
      "\u001b[34m[09/28/2020 22:14:16 INFO 140585646163776] update state and report convergance took: 1.8114%, (0.001937 secs)\u001b[0m\n",
      "\u001b[34m[09/28/2020 22:14:16 INFO 140585646163776] compute all data-center distances: center norm took: 0.5528%, (0.000591 secs)\u001b[0m\n",
      "\u001b[34m[09/28/2020 22:14:16 INFO 140585646163776] update set-up time took: 0.2431%, (0.000260 secs)\u001b[0m\n",
      "\u001b[34m[09/28/2020 22:14:16 INFO 140585646163776] predict minus dist took: 0.0841%, (0.000090 secs)\u001b[0m\n",
      "\u001b[34m[09/28/2020 22:14:16 INFO 140585646163776] TOTAL took: 0.106916904449\u001b[0m\n",
      "\u001b[34m[09/28/2020 22:14:16 INFO 140585646163776] Number of GPUs being used: 0\u001b[0m\n",
      "\u001b[34m#metrics {\"Metrics\": {\"finalize.time\": {\"count\": 1, \"max\": 325.0269889831543, \"sum\": 325.0269889831543, \"min\": 325.0269889831543}, \"initialize.time\": {\"count\": 1, \"max\": 42.7091121673584, \"sum\": 42.7091121673584, \"min\": 42.7091121673584}, \"model.serialize.time\": {\"count\": 1, \"max\": 0.1938343048095703, \"sum\": 0.1938343048095703, \"min\": 0.1938343048095703}, \"update.time\": {\"count\": 1, \"max\": 101.26399993896484, \"sum\": 101.26399993896484, \"min\": 101.26399993896484}, \"epochs\": {\"count\": 1, \"max\": 1, \"sum\": 1.0, \"min\": 1}, \"state.serialize.time\": {\"count\": 1, \"max\": 1.8460750579833984, \"sum\": 1.8460750579833984, \"min\": 1.8460750579833984}, \"_shrink.time\": {\"count\": 1, \"max\": 322.9529857635498, \"sum\": 322.9529857635498, \"min\": 322.9529857635498}}, \"EndTime\": 1601331256.283728, \"Dimensions\": {\"Host\": \"algo-1\", \"Operation\": \"training\", \"Algorithm\": \"AWS/KMeansWebscale\"}, \"StartTime\": 1601331255.800535}\n",
      "\u001b[0m\n",
      "\u001b[34m[09/28/2020 22:14:16 INFO 140585646163776] Test data is not provided.\u001b[0m\n",
      "\u001b[34m#metrics {\"Metrics\": {\"totaltime\": {\"count\": 1, \"max\": 560.748815536499, \"sum\": 560.748815536499, \"min\": 560.748815536499}, \"setuptime\": {\"count\": 1, \"max\": 19.145965576171875, \"sum\": 19.145965576171875, \"min\": 19.145965576171875}}, \"EndTime\": 1601331256.284219, \"Dimensions\": {\"Host\": \"algo-1\", \"Operation\": \"training\", \"Algorithm\": \"AWS/KMeansWebscale\"}, \"StartTime\": 1601331256.28389}\n",
      "\u001b[0m\n",
      "\n",
      "2020-09-28 22:14:43 Uploading - Uploading generated training model\n",
      "2020-09-28 22:14:50 Completed - Training job completed\n",
      "Training seconds: 93\n",
      "Billable seconds: 93\n",
      "CPU times: user 922 ms, sys: 46 ms, total: 968 ms\n",
      "Wall time: 5min 15s\n"
     ]
    }
   ],
   "source": [
    "%%time\n",
    "kmeans.fit(kmeans.record_set(data_train),job_name=job_name)"
   ]
  },
  {
   "cell_type": "markdown",
   "metadata": {},
   "source": [
    "## View the results"
   ]
  },
  {
   "cell_type": "code",
   "execution_count": 32,
   "metadata": {},
   "outputs": [
    {
     "data": {
      "text/plain": [
       "2304"
      ]
     },
     "execution_count": 32,
     "metadata": {},
     "output_type": "execute_result"
    }
   ],
   "source": [
    "import os\n",
    "model_path = 'ufo_kmeans_model/kmeans-geo-job-20200928220124/output/model.tar.gz'\n",
    "boto3.resource('s3').Bucket('awsml-sagemaker-lab').download_file(model_path,'model.tar.gz')\n",
    "os.system('tar -zxvf model.tar.gz')\n",
    "os.system('unzip model_algo-1')"
   ]
  },
  {
   "cell_type": "code",
   "execution_count": 33,
   "metadata": {},
   "outputs": [
    {
     "name": "stdout",
     "output_type": "stream",
     "text": [
      "Collecting mxnet\n",
      "  Downloading mxnet-1.7.0.post1-py2.py3-none-manylinux2014_x86_64.whl (55.0 MB)\n",
      "\u001b[K     |████████████████████████████████| 55.0 MB 70 kB/s  eta 0:00:01\n",
      "\u001b[?25hRequirement already satisfied: numpy<2.0.0,>1.16.0 in /home/ec2-user/anaconda3/envs/tensorflow2_p36/lib/python3.6/site-packages (from mxnet) (1.18.1)\n",
      "Collecting graphviz<0.9.0,>=0.8.1\n",
      "  Downloading graphviz-0.8.4-py2.py3-none-any.whl (16 kB)\n",
      "Requirement already satisfied: requests<3,>=2.20.0 in /home/ec2-user/anaconda3/envs/tensorflow2_p36/lib/python3.6/site-packages (from mxnet) (2.23.0)\n",
      "Requirement already satisfied: chardet<4,>=3.0.2 in /home/ec2-user/anaconda3/envs/tensorflow2_p36/lib/python3.6/site-packages (from requests<3,>=2.20.0->mxnet) (3.0.4)\n",
      "Requirement already satisfied: certifi>=2017.4.17 in /home/ec2-user/anaconda3/envs/tensorflow2_p36/lib/python3.6/site-packages (from requests<3,>=2.20.0->mxnet) (2020.6.20)\n",
      "Requirement already satisfied: idna<3,>=2.5 in /home/ec2-user/anaconda3/envs/tensorflow2_p36/lib/python3.6/site-packages (from requests<3,>=2.20.0->mxnet) (2.9)\n",
      "Requirement already satisfied: urllib3!=1.25.0,!=1.25.1,<1.26,>=1.21.1 in /home/ec2-user/anaconda3/envs/tensorflow2_p36/lib/python3.6/site-packages (from requests<3,>=2.20.0->mxnet) (1.25.8)\n",
      "Installing collected packages: graphviz, mxnet\n",
      "Successfully installed graphviz-0.8.4 mxnet-1.7.0.post1\n",
      "\u001b[33mWARNING: You are using pip version 20.0.2; however, version 20.2.3 is available.\n",
      "You should consider upgrading via the '/home/ec2-user/anaconda3/envs/tensorflow2_p36/bin/python -m pip install --upgrade pip' command.\u001b[0m\n"
     ]
    }
   ],
   "source": [
    "!pip install mxnet"
   ]
  },
  {
   "cell_type": "code",
   "execution_count": 35,
   "metadata": {},
   "outputs": [],
   "source": [
    "import mxnet as mx\n",
    "kmeans_model_params = mx.ndarray.load('model_algo-1')"
   ]
  },
  {
   "cell_type": "code",
   "execution_count": 43,
   "metadata": {},
   "outputs": [
    {
     "data": {
      "text/html": [
       "<div>\n",
       "<style scoped>\n",
       "    .dataframe tbody tr th:only-of-type {\n",
       "        vertical-align: middle;\n",
       "    }\n",
       "\n",
       "    .dataframe tbody tr th {\n",
       "        vertical-align: top;\n",
       "    }\n",
       "\n",
       "    .dataframe thead th {\n",
       "        text-align: right;\n",
       "    }\n",
       "</style>\n",
       "<table border=\"1\" class=\"dataframe\">\n",
       "  <thead>\n",
       "    <tr style=\"text-align: right;\">\n",
       "      <th></th>\n",
       "      <th>latitude</th>\n",
       "      <th>longitude</th>\n",
       "    </tr>\n",
       "  </thead>\n",
       "  <tbody>\n",
       "    <tr>\n",
       "      <th>0</th>\n",
       "      <td>35.255814</td>\n",
       "      <td>-118.509682</td>\n",
       "    </tr>\n",
       "    <tr>\n",
       "      <th>1</th>\n",
       "      <td>41.099522</td>\n",
       "      <td>-75.235138</td>\n",
       "    </tr>\n",
       "    <tr>\n",
       "      <th>2</th>\n",
       "      <td>12.426487</td>\n",
       "      <td>66.732552</td>\n",
       "    </tr>\n",
       "    <tr>\n",
       "      <th>3</th>\n",
       "      <td>51.173016</td>\n",
       "      <td>2.395409</td>\n",
       "    </tr>\n",
       "    <tr>\n",
       "      <th>4</th>\n",
       "      <td>35.171051</td>\n",
       "      <td>-97.848244</td>\n",
       "    </tr>\n",
       "    <tr>\n",
       "      <th>5</th>\n",
       "      <td>-32.047237</td>\n",
       "      <td>146.657715</td>\n",
       "    </tr>\n",
       "    <tr>\n",
       "      <th>6</th>\n",
       "      <td>29.423437</td>\n",
       "      <td>-81.587265</td>\n",
       "    </tr>\n",
       "    <tr>\n",
       "      <th>7</th>\n",
       "      <td>17.732141</td>\n",
       "      <td>117.824913</td>\n",
       "    </tr>\n",
       "    <tr>\n",
       "      <th>8</th>\n",
       "      <td>47.800106</td>\n",
       "      <td>-122.329514</td>\n",
       "    </tr>\n",
       "    <tr>\n",
       "      <th>9</th>\n",
       "      <td>40.558071</td>\n",
       "      <td>-86.751213</td>\n",
       "    </tr>\n",
       "  </tbody>\n",
       "</table>\n",
       "</div>"
      ],
      "text/plain": [
       "    latitude   longitude\n",
       "0  35.255814 -118.509682\n",
       "1  41.099522  -75.235138\n",
       "2  12.426487   66.732552\n",
       "3  51.173016    2.395409\n",
       "4  35.171051  -97.848244\n",
       "5 -32.047237  146.657715\n",
       "6  29.423437  -81.587265\n",
       "7  17.732141  117.824913\n",
       "8  47.800106 -122.329514\n",
       "9  40.558071  -86.751213"
      ]
     },
     "execution_count": 43,
     "metadata": {},
     "output_type": "execute_result"
    }
   ],
   "source": [
    "cluster_centroids_kmeans = pd.DataFrame(kmeans_model_params[0].asnumpy())\n",
    "cluster_centroids_kmeans.columns = df_geo.columns\n",
    "cluster_centroids_kmeans"
   ]
  },
  {
   "cell_type": "code",
   "execution_count": 46,
   "metadata": {},
   "outputs": [
    {
     "data": {
      "text/plain": [
       "{'ResponseMetadata': {'RequestId': '3362C95F40D140DF',\n",
       "  'HostId': '6WPVL5RVR1Hsc5vIRvYzqE8KEaJ0BJVDgaU8hLIonrf6nKhMi/d6kgJSZax9ozrGdzfOPcw5NCg=',\n",
       "  'HTTPStatusCode': 200,\n",
       "  'HTTPHeaders': {'x-amz-id-2': '6WPVL5RVR1Hsc5vIRvYzqE8KEaJ0BJVDgaU8hLIonrf6nKhMi/d6kgJSZax9ozrGdzfOPcw5NCg=',\n",
       "   'x-amz-request-id': '3362C95F40D140DF',\n",
       "   'date': 'Mon, 28 Sep 2020 22:33:34 GMT',\n",
       "   'etag': '\"bcc6e19dd0ee029630e7a3c716dfae3a\"',\n",
       "   'content-length': '0',\n",
       "   'server': 'AmazonS3'},\n",
       "  'RetryAttempts': 0},\n",
       " 'ETag': '\"bcc6e19dd0ee029630e7a3c716dfae3a\"'}"
      ]
     },
     "execution_count": 46,
     "metadata": {},
     "output_type": "execute_result"
    }
   ],
   "source": [
    "from io import StringIO\n",
    "\n",
    "csv_buffer = StringIO()\n",
    "cluster_centroids_kmeans.to_csv(csv_buffer,index=False)\n",
    "s3_resource = boto3.resource('s3')\n",
    "s3_resource.Object(bucket,'ufo_kmeans_output/ten_locations_kmeans.csv').put(Body=csv_buffer.getvalue())"
   ]
  },
  {
   "cell_type": "code",
   "execution_count": null,
   "metadata": {},
   "outputs": [],
   "source": []
  }
 ],
 "metadata": {
  "kernelspec": {
   "display_name": "conda_tensorflow2_p36",
   "language": "python",
   "name": "conda_tensorflow2_p36"
  },
  "language_info": {
   "codemirror_mode": {
    "name": "ipython",
    "version": 3
   },
   "file_extension": ".py",
   "mimetype": "text/x-python",
   "name": "python",
   "nbconvert_exporter": "python",
   "pygments_lexer": "ipython3",
   "version": "3.6.10"
  }
 },
 "nbformat": 4,
 "nbformat_minor": 4
}
